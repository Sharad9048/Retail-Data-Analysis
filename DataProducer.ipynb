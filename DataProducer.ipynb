{
 "cells": [
  {
   "cell_type": "markdown",
   "id": "96e518db",
   "metadata": {},
   "source": [
    "[Dataset](https://archive.ics.uci.edu/ml/machine-learning-databases/00352/Online%20Retail.xlsx)"
   ]
  },
  {
   "cell_type": "code",
   "execution_count": 1,
   "id": "c71f7dc6",
   "metadata": {},
   "outputs": [],
   "source": [
    "import pandas as pd\n",
    "df = pd.read_excel(\"D:/Users/MASTO-2975DAS/Documents/upGrad/BigData/BD C7 - Retail Data Analysis/Online Retail.xlsx\")"
   ]
  },
  {
   "cell_type": "code",
   "execution_count": 2,
   "id": "f74e8ac8",
   "metadata": {},
   "outputs": [],
   "source": [
    "df['type']=df.apply(lambda x:\"RETURN\" if x['Quantity']<0 else \"ORDER\",axis=1 )\n",
    "df['timestamp'] = df.apply(lambda x:str(x['InvoiceDate']),axis=1 )"
   ]
  },
  {
   "cell_type": "code",
   "execution_count": 3,
   "id": "06207253",
   "metadata": {},
   "outputs": [],
   "source": [
    "df.rename(columns={\n",
    "    'InvoiceNo':'invoice_no',\n",
    "    'Country':'country',\n",
    "    'Description':'title',\n",
    "    'Quantity':'quantity',\n",
    "    'StockCode':'SKU',\n",
    "    'UnitPrice':'unit_price',\n",
    "}, inplace=True)"
   ]
  },
  {
   "cell_type": "code",
   "execution_count": 4,
   "id": "eb9a7954",
   "metadata": {},
   "outputs": [],
   "source": [
    "df.sort_values(by=['InvoiceDate'],ascending=True,inplace=True)"
   ]
  },
  {
   "cell_type": "code",
   "execution_count": 5,
   "id": "d2139784",
   "metadata": {},
   "outputs": [],
   "source": [
    "invoiceDate_df = df[['invoice_no','InvoiceDate']].drop_duplicates()\n",
    "invoice_df = df[['invoice_no','country','timestamp','type']].drop_duplicates()\n",
    "item_df = df[['invoice_no','SKU','title','unit_price','quantity']]"
   ]
  },
  {
   "cell_type": "code",
   "execution_count": 6,
   "id": "82e3f120",
   "metadata": {},
   "outputs": [],
   "source": [
    "data_l = invoice_df.to_dict('records')"
   ]
  },
  {
   "cell_type": "code",
   "execution_count": 7,
   "id": "48db13d6",
   "metadata": {},
   "outputs": [],
   "source": [
    "from kafka import KafkaProducer\n",
    "\n",
    "producer = KafkaProducer(bootstrap_servers='192.168.0.226:9092')\n",
    "topic='test'"
   ]
  },
  {
   "cell_type": "code",
   "execution_count": null,
   "id": "40c1ee5d",
   "metadata": {},
   "outputs": [],
   "source": [
    "import json,time,datetime\n",
    "# preTimestamp = datetime.datetime.timestamp(invoiceDate_df.iloc[0,1])\n",
    "\n",
    "for x in data_l:\n",
    "    x['items']=item_df.loc[item_df['invoice_no']==x['invoice_no']].drop(['invoice_no'],axis=1).to_dict('records')\n",
    "#     currentTimestamp = datetime.datetime.timestamp(\n",
    "#         invoiceDate_df.loc[invoiceDate_df['invoice_no']==x['invoice_no']].iloc[0,1]\n",
    "#     )\n",
    "#     time.sleep(int(currentTimestamp-preTimestamp))\n",
    "#     preTimestamp = currentTimestamp\n",
    "    time.sleep(1)\n",
    "    ack = producer.send(topic,json.dumps(x).encode('utf-8'))\n",
    "    meta = ack.get()\n",
    "    print(\"Topic:{} Time:{}\".format(meta.topic,currentTimestamp))"
   ]
  }
 ],
 "metadata": {
  "kernelspec": {
   "display_name": "Python 3 (ipykernel)",
   "language": "python",
   "name": "python3"
  },
  "language_info": {
   "codemirror_mode": {
    "name": "ipython",
    "version": 3
   },
   "file_extension": ".py",
   "mimetype": "text/x-python",
   "name": "python",
   "nbconvert_exporter": "python",
   "pygments_lexer": "ipython3",
   "version": "3.7.9"
  }
 },
 "nbformat": 4,
 "nbformat_minor": 5
}
