{
 "cells": [
  {
   "cell_type": "code",
   "execution_count": 1,
   "id": "09bd0f06",
   "metadata": {},
   "outputs": [
    {
     "data": {
      "text/html": [
       "\n",
       "            <div>\n",
       "                <p><b>SparkSession - in-memory</b></p>\n",
       "                \n",
       "        <div>\n",
       "            <p><b>SparkContext</b></p>\n",
       "\n",
       "            <p><a href=\"http://Sharad:4040\">Spark UI</a></p>\n",
       "\n",
       "            <dl>\n",
       "              <dt>Version</dt>\n",
       "                <dd><code>v3.3.2</code></dd>\n",
       "              <dt>Master</dt>\n",
       "                <dd><code>local[*]</code></dd>\n",
       "              <dt>AppName</dt>\n",
       "                <dd><code>Testing</code></dd>\n",
       "            </dl>\n",
       "        </div>\n",
       "        \n",
       "            </div>\n",
       "        "
      ],
      "text/plain": [
       "<pyspark.sql.session.SparkSession at 0x226e22cabc8>"
      ]
     },
     "execution_count": 1,
     "metadata": {},
     "output_type": "execute_result"
    }
   ],
   "source": [
    "import findspark\n",
    "from pyspark.sql import SparkSession\n",
    "findspark.init()\n",
    "spark=SparkSession\\\n",
    ".builder\\\n",
    ".appName('Testing')\\\n",
    ".getOrCreate()\n",
    "spark"
   ]
  },
  {
   "cell_type": "code",
   "execution_count": 12,
   "id": "de3cb4f1",
   "metadata": {},
   "outputs": [],
   "source": [
    "from pyspark.sql.types import StructType,StructField,StringType,IntegerType,FloatType,ArrayType,MapType,LongType\n",
    "schema = StructType([\n",
    "    StructField('invoice_no',LongType()),\n",
    "    StructField('country',StringType()),\n",
    "    StructField('timestamp',StringType()),\n",
    "    StructField('type',StringType()),\n",
    "    StructField(\n",
    "        'items',ArrayType(\n",
    "            StructType([\n",
    "                StructField('SKU',StringType(),False),\n",
    "                StructField('title',StringType(),False),\n",
    "                StructField('unit_price',FloatType(),False),\n",
    "                StructField('quantity',IntegerType(),False),\n",
    "            ])\n",
    "        )\n",
    "    )    \n",
    "])"
   ]
  },
  {
   "cell_type": "code",
   "execution_count": 13,
   "id": "61459e97",
   "metadata": {},
   "outputs": [],
   "source": [
    "json_list = [['{\"invoice_no\": 154132541653705,\"country\": \"United Kingdom\",\"timestamp\": \"2020-09-18 10:55:23\",\"type\": \"ORDER\",\"items\": [{\"SKU\": \"21485\",\"title\": \"RETROSPOT HEART HOT WATER BOTTLE\",\"unit_price\": 4.95,\"quantity\": 6},{\"SKU\": \"23499\",\"title\": \"SET 12 VINTAGE DOILY CHALK\",\"unit_price\": 0.42,\"quantity\": 2}]}']]\n",
    "# x=[(1,2,'3'),(4,5,'6')]\n",
    "rdd=spark.sparkContext.parallelize(json_list)"
   ]
  },
  {
   "cell_type": "code",
   "execution_count": 14,
   "id": "fd3749d0",
   "metadata": {},
   "outputs": [
    {
     "name": "stdout",
     "output_type": "stream",
     "text": [
      "+---------------------------------------------------------------------------------------------------------------------------------------------------------------------------------------------------------------------------------------------------------------------------------------------------------------+\n",
      "|value                                                                                                                                                                                                                                                                                                          |\n",
      "+---------------------------------------------------------------------------------------------------------------------------------------------------------------------------------------------------------------------------------------------------------------------------------------------------------------+\n",
      "|{\"invoice_no\": 154132541653705,\"country\": \"United Kingdom\",\"timestamp\": \"2020-09-18 10:55:23\",\"type\": \"ORDER\",\"items\": [{\"SKU\": \"21485\",\"title\": \"RETROSPOT HEART HOT WATER BOTTLE\",\"unit_price\": 4.95,\"quantity\": 6},{\"SKU\": \"23499\",\"title\": \"SET 12 VINTAGE DOILY CHALK\",\"unit_price\": 0.42,\"quantity\": 2}]}|\n",
      "+---------------------------------------------------------------------------------------------------------------------------------------------------------------------------------------------------------------------------------------------------------------------------------------------------------------+\n",
      "\n"
     ]
    }
   ],
   "source": [
    "df=rdd.toDF(['value'])\n",
    "df.show(truncate=False)"
   ]
  },
  {
   "cell_type": "code",
   "execution_count": 15,
   "id": "a2fdefb7",
   "metadata": {},
   "outputs": [
    {
     "name": "stdout",
     "output_type": "stream",
     "text": [
      "+---------------+--------------+-------------------+-----+--------------------------------------------------------------------------------------------------+\n",
      "|invoice_no     |country       |timestamp          |type |items                                                                                             |\n",
      "+---------------+--------------+-------------------+-----+--------------------------------------------------------------------------------------------------+\n",
      "|154132541653705|United Kingdom|2020-09-18 10:55:23|ORDER|[{21485, RETROSPOT HEART HOT WATER BOTTLE, 4.95, 6}, {23499, SET 12 VINTAGE DOILY CHALK, 0.42, 2}]|\n",
      "+---------------+--------------+-------------------+-----+--------------------------------------------------------------------------------------------------+\n",
      "\n"
     ]
    }
   ],
   "source": [
    "from pyspark.sql.functions import from_json,col\n",
    "df1 = df.select(from_json(col(\"value\").cast(\"string\"),schema).alias('data')).select('data.*')\n",
    "df1.show(truncate=False)"
   ]
  },
  {
   "cell_type": "code",
   "execution_count": 16,
   "id": "887f73c5",
   "metadata": {},
   "outputs": [
    {
     "name": "stdout",
     "output_type": "stream",
     "text": [
      "+---------------+--------------+-------------------+-----+--------------------+----------+-----------+--------+---------+\n",
      "|     invoice_no|       country|          timestamp| type|               items|total_cost|total_items|is_order|is_return|\n",
      "+---------------+--------------+-------------------+-----+--------------------+----------+-----------+--------+---------+\n",
      "|154132541653705|United Kingdom|2020-09-18 10:55:23|ORDER|[{21485, RETROSPO...| 30.539999|          8|       1|        0|\n",
      "+---------------+--------------+-------------------+-----+--------------------+----------+-----------+--------+---------+\n",
      "\n"
     ]
    }
   ],
   "source": [
    "from pyspark.sql.functions import udf\n",
    "\n",
    "@udf(returnType=FloatType())\n",
    "def totalCost(arr1,arr2):\n",
    "    result = 0\n",
    "    for x,y in zip(arr1,arr2):\n",
    "        result+=x*y\n",
    "    return result\n",
    "\n",
    "@udf(returnType=IntegerType())\n",
    "def totalItems(arr1):\n",
    "    return sum(arr1)\n",
    "isOrder = udf(lambda x:1 if x=='ORDER' else 0)\n",
    "isReturn = udf(lambda x:1 if x=='RETURN' else 0)\n",
    "\n",
    "df1.withColumn('total_cost',totalCost(df1.items.quantity,df1.items.unit_price))\\\n",
    ".withColumn('total_items',totalItems(df1.items.quantity))\\\n",
    ".withColumn('is_order',isOrder(df1.type))\\\n",
    ".withColumn('is_return',isReturn(df1.type))\\\n",
    ".drop()\n",
    ".show()"
   ]
  },
  {
   "cell_type": "code",
   "execution_count": null,
   "id": "7031f19b",
   "metadata": {},
   "outputs": [],
   "source": []
  },
  {
   "cell_type": "code",
   "execution_count": 106,
   "id": "020257db",
   "metadata": {},
   "outputs": [
    {
     "name": "stdout",
     "output_type": "stream",
     "text": [
      "+--------------+----------------+\n",
      "|items.quantity|items.unit_price|\n",
      "+--------------+----------------+\n",
      "|[6, 2]        |[4.95, 0.42]    |\n",
      "+--------------+----------------+\n",
      "\n"
     ]
    }
   ],
   "source": [
    "df1.select(df1.items.quantity,df1.items.unit_price).show(truncate=False)"
   ]
  },
  {
   "cell_type": "code",
   "execution_count": 4,
   "id": "72314642",
   "metadata": {},
   "outputs": [
    {
     "name": "stdout",
     "output_type": "stream",
     "text": [
      "{'invoice_no': 154132541653705, 'country': 'United Kingdom', 'timestamp': '2020-09-18 10:55:23', 'type': 'ORDER', 'items': [{'SKU': '21485', 'title': 'RETROSPOT HEART HOT WATER BOTTLE', 'unit_price': 4.95, 'quantity': 6}, {'SKU': '23499', 'title': 'SET 12 VINTAGE DOILY CHALK', 'unit_price': 0.42, 'quantity': 2}]}\n"
     ]
    }
   ],
   "source": [
    "import json\n",
    "print(json.loads(json_str))"
   ]
  },
  {
   "cell_type": "code",
   "execution_count": null,
   "id": "3f8b9b04",
   "metadata": {},
   "outputs": [],
   "source": [
    "from pyspark.sql.functions import udf\n",
    "@udf(returnType=StringType())\n",
    "def jsonToDf(data_str:str):\n",
    "    key_list = ['SKU','title','unit_price','quantity']\n",
    "    data_dict = json.loads(data_str)\n",
    "    dataItem_list,data_dict['items'] = data_dict['items'],{\n",
    "        \n",
    "    }\n",
    "    for x in dataItem_list:\n",
    "        "
   ]
  }
 ],
 "metadata": {
  "kernelspec": {
   "display_name": "Python 3 (ipykernel)",
   "language": "python",
   "name": "python3"
  },
  "language_info": {
   "codemirror_mode": {
    "name": "ipython",
    "version": 3
   },
   "file_extension": ".py",
   "mimetype": "text/x-python",
   "name": "python",
   "nbconvert_exporter": "python",
   "pygments_lexer": "ipython3",
   "version": "3.7.9"
  }
 },
 "nbformat": 4,
 "nbformat_minor": 5
}
